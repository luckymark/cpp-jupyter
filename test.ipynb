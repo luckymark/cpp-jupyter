{
 "cells": [
  {
   "cell_type": "code",
   "execution_count": 1,
   "metadata": {
    "slideshow": {
     "slide_type": "slide"
    }
   },
   "outputs": [
    {
     "name": "stdin",
     "output_type": "stream",
     "text": [
      " 23\n"
     ]
    },
    {
     "name": "stdout",
     "output_type": "stream",
     "text": [
      "a=23\n"
     ]
    }
   ],
   "source": [
    "int a=10;\n",
    "\n",
    "scanf(\"%d\",&a);\n",
    "\n",
    "printf(\"a=%d\\n\",a);\n",
    "\n",
    "\n"
   ]
  },
  {
   "cell_type": "code",
   "execution_count": null,
   "metadata": {
    "collapsed": true,
    "jupyter": {
     "outputs_hidden": true
    },
    "slideshow": {
     "slide_type": "subslide"
    }
   },
   "outputs": [],
   "source": [
    "\n"
   ]
  }
 ],
 "metadata": {
  "celltoolbar": "Slideshow",
  "kernelspec": {
   "display_name": "C",
   "language": "c",
   "name": "c"
  },
  "language_info": {
   "file_extension": ".c",
   "mimetype": "text/plain",
   "name": "text/x-csrc"
  },
  "vscode": {
   "interpreter": {
    "hash": "fc5ebb0b2a33dea584536b7e4185c4a02a8ced11035ce5fc581984c41419da02"
   }
  }
 },
 "nbformat": 4,
 "nbformat_minor": 4
}